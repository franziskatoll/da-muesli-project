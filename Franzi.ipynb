{
 "cells": [
  {
   "cell_type": "markdown",
   "metadata": {},
   "source": [
    "# This is Franzi's file"
   ]
  },
  {
   "cell_type": "code",
   "execution_count": 1,
   "metadata": {},
   "outputs": [],
   "source": [
    "#Import Pandas, matplotlip and seaborn\n",
    "\n",
    "import pandas as pd\n",
    "import seaborn as sns\n",
    "import matplotlib.pyplot as plt"
   ]
  },
  {
   "cell_type": "code",
   "execution_count": 11,
   "metadata": {},
   "outputs": [],
   "source": [
    "orders_raw = pd.read_excel(\"./Muesli Project raw data.xlsx\", sheet_name=0)\n",
    "on_truck_raw =pd.read_excel(\"./Muesli Project raw data.xlsx\", sheet_name=1)\n",
    "pickup_raw = pd.read_excel(\"./Muesli Project raw data.xlsx\", sheet_name=2)\n",
    "delivered_raw = pd.read_excel(\"./Muesli Project raw data.xlsx\", sheet_name=3)"
   ]
  },
  {
   "cell_type": "markdown",
   "metadata": {},
   "source": [
    "Pseudocode:\n",
    "\n",
    "- Load in all the data in different data frames\n",
    "- clear data to have only relevant date (drop customer name), and make sure data types are the ones we need, drop duplicates\n",
    "\n",
    "\n",
    "- merge on_truck_raw & pickup_raw with outer merge - check if \"on truck scan date\" and \"ready to ship\" are the same dates, if yes combine both columns\n",
    "- inner merge between orders_raw and delivered_raw to have the  overall time from ordering to delivered - calculate average in time difference (Overall Process)\n",
    "- inner merge between orders_raw and pickup_raw to receive the timeframe between order and ready to ship (Leaving Warehouse)\n",
    "- inner merge merged ready to ship data (first merging point here) with delivered_raw, to get shipping time (Shipping)\n",
    "- inner merge between orders_raw and on_truck_raw inner to get processing time (Processing)"
   ]
  },
  {
   "cell_type": "code",
   "execution_count": 21,
   "metadata": {},
   "outputs": [
    {
     "name": "stdout",
     "output_type": "stream",
     "text": [
      "<class 'pandas.core.frame.DataFrame'>\n",
      "RangeIndex: 9994 entries, 0 to 9993\n",
      "Data columns (total 19 columns):\n",
      " #   Column          Non-Null Count  Dtype         \n",
      "---  ------          --------------  -----         \n",
      " 0   Index           9994 non-null   int64         \n",
      " 1   Order ID        9994 non-null   object        \n",
      " 2   Order Date      9994 non-null   datetime64[ns]\n",
      " 3   Ship Mode       9994 non-null   object        \n",
      " 4   Customer ID     9994 non-null   object        \n",
      " 5   Customer Name   9994 non-null   object        \n",
      " 6   Origin Channel  9994 non-null   object        \n",
      " 7   Country/Region  9994 non-null   object        \n",
      " 8   City            9994 non-null   object        \n",
      " 9   State           9994 non-null   object        \n",
      " 10  Postal Code     9983 non-null   float64       \n",
      " 11  Region          9994 non-null   object        \n",
      " 12  Category        9994 non-null   object        \n",
      " 13  Sub-Category    9994 non-null   object        \n",
      " 14  Product ID      9994 non-null   object        \n",
      " 15  Sales           9994 non-null   float64       \n",
      " 16  Quantity        9994 non-null   int64         \n",
      " 17  Discount        9994 non-null   float64       \n",
      " 18  Profit          9994 non-null   float64       \n",
      "dtypes: datetime64[ns](1), float64(4), int64(2), object(12)\n",
      "memory usage: 1.4+ MB\n",
      "None\n"
     ]
    },
    {
     "data": {
      "text/plain": [
       "5009"
      ]
     },
     "execution_count": 21,
     "metadata": {},
     "output_type": "execute_result"
    }
   ],
   "source": [
    "print(orders_raw.info())\n",
    "orders_raw.head(2)\n",
    "orders_raw['Order ID'].nunique()"
   ]
  },
  {
   "cell_type": "code",
   "execution_count": 22,
   "metadata": {},
   "outputs": [
    {
     "name": "stdout",
     "output_type": "stream",
     "text": [
      "<class 'pandas.core.frame.DataFrame'>\n",
      "RangeIndex: 5899 entries, 0 to 5898\n",
      "Data columns (total 5 columns):\n",
      " #   Column              Non-Null Count  Dtype         \n",
      "---  ------              --------------  -----         \n",
      " 0   Row ID              5899 non-null   int64         \n",
      " 1   Order ID            5899 non-null   object        \n",
      " 2   Order Date          5899 non-null   datetime64[ns]\n",
      " 3   On Truck Scan Date  5899 non-null   datetime64[ns]\n",
      " 4   Ship Mode           5899 non-null   object        \n",
      "dtypes: datetime64[ns](2), int64(1), object(2)\n",
      "memory usage: 230.6+ KB\n",
      "None\n"
     ]
    },
    {
     "data": {
      "text/plain": [
       "3002"
      ]
     },
     "execution_count": 22,
     "metadata": {},
     "output_type": "execute_result"
    }
   ],
   "source": [
    "print(on_truck_raw.info())\n",
    "on_truck_raw.head(2)\n",
    "on_truck_raw['Order ID'].nunique()"
   ]
  },
  {
   "cell_type": "code",
   "execution_count": 23,
   "metadata": {},
   "outputs": [
    {
     "name": "stdout",
     "output_type": "stream",
     "text": [
      "<class 'pandas.core.frame.DataFrame'>\n",
      "RangeIndex: 290 entries, 0 to 289\n",
      "Data columns (total 3 columns):\n",
      " #   Column              Non-Null Count  Dtype         \n",
      "---  ------              --------------  -----         \n",
      " 0   Order ID            290 non-null    object        \n",
      " 1   Ready to Ship Date  290 non-null    datetime64[ns]\n",
      " 2   Pickup Date         290 non-null    datetime64[ns]\n",
      "dtypes: datetime64[ns](2), object(1)\n",
      "memory usage: 6.9+ KB\n",
      "None\n"
     ]
    },
    {
     "data": {
      "text/plain": [
       "204"
      ]
     },
     "execution_count": 23,
     "metadata": {},
     "output_type": "execute_result"
    }
   ],
   "source": [
    "print(pickup_raw.info())\n",
    "pickup_raw['Order ID'].nunique()"
   ]
  },
  {
   "cell_type": "code",
   "execution_count": 24,
   "metadata": {},
   "outputs": [
    {
     "name": "stdout",
     "output_type": "stream",
     "text": [
      "<class 'pandas.core.frame.DataFrame'>\n",
      "RangeIndex: 333 entries, 0 to 332\n",
      "Data columns (total 3 columns):\n",
      " #   Column             Non-Null Count  Dtype         \n",
      "---  ------             --------------  -----         \n",
      " 0   Order ID           333 non-null    object        \n",
      " 1   Arrival Scan Date  333 non-null    datetime64[ns]\n",
      " 2   Customer Name      333 non-null    object        \n",
      "dtypes: datetime64[ns](1), object(2)\n",
      "memory usage: 7.9+ KB\n"
     ]
    },
    {
     "data": {
      "text/plain": [
       "333"
      ]
     },
     "execution_count": 24,
     "metadata": {},
     "output_type": "execute_result"
    }
   ],
   "source": [
    "delivered_raw.info()\n",
    "delivered_raw['Order ID'].nunique()"
   ]
  },
  {
   "cell_type": "markdown",
   "metadata": {},
   "source": [
    "## Cleaning Data"
   ]
  },
  {
   "cell_type": "code",
   "execution_count": 41,
   "metadata": {},
   "outputs": [],
   "source": [
    "def clean_column_drop_dupl(df):\n",
    "    df.columns = df.columns.str.lower()\n",
    "    df.columns = df.columns.str.replace(\" \", \"_\")\n",
    "    df = df.drop_duplicates(['order_id'])\n",
    "    return df\n",
    "\n",
    "#def drop_dupl_orderid(df):\n",
    " #   df = df.drop_duplicates(['order_id'])\n",
    "  #  return df\n"
   ]
  },
  {
   "cell_type": "code",
   "execution_count": 42,
   "metadata": {},
   "outputs": [],
   "source": [
    "orders_clean = clean_column_drop_dupl(orders_raw)\n",
    "on_truck_clean = clean_column_drop_dupl(on_truck_raw)\n",
    "pickup_clean = clean_column_drop_dupl(pickup_raw)\n",
    "delivered_clean = clean_column_drop_dupl(delivered_raw)"
   ]
  },
  {
   "cell_type": "code",
   "execution_count": 51,
   "metadata": {},
   "outputs": [
    {
     "name": "stderr",
     "output_type": "stream",
     "text": [
      "/var/folders/mc/1x4q7cs53knf6dvx4qb6jlg80000gn/T/ipykernel_1805/629526611.py:3: SettingWithCopyWarning: \n",
      "A value is trying to be set on a copy of a slice from a DataFrame\n",
      "\n",
      "See the caveats in the documentation: https://pandas.pydata.org/pandas-docs/stable/user_guide/indexing.html#returning-a-view-versus-a-copy\n",
      "  orders_clean.drop(['index', 'customer_name'], axis=1, inplace = True)\n"
     ]
    },
    {
     "data": {
      "text/html": [
       "<div>\n",
       "<style scoped>\n",
       "    .dataframe tbody tr th:only-of-type {\n",
       "        vertical-align: middle;\n",
       "    }\n",
       "\n",
       "    .dataframe tbody tr th {\n",
       "        vertical-align: top;\n",
       "    }\n",
       "\n",
       "    .dataframe thead th {\n",
       "        text-align: right;\n",
       "    }\n",
       "</style>\n",
       "<table border=\"1\" class=\"dataframe\">\n",
       "  <thead>\n",
       "    <tr style=\"text-align: right;\">\n",
       "      <th></th>\n",
       "      <th>order_id</th>\n",
       "      <th>order_date</th>\n",
       "      <th>ship_mode</th>\n",
       "      <th>customer_id</th>\n",
       "      <th>origin_channel</th>\n",
       "      <th>country/region</th>\n",
       "      <th>city</th>\n",
       "      <th>state</th>\n",
       "      <th>postal_code</th>\n",
       "      <th>region</th>\n",
       "      <th>category</th>\n",
       "      <th>sub-category</th>\n",
       "      <th>product_id</th>\n",
       "      <th>sales</th>\n",
       "      <th>quantity</th>\n",
       "      <th>discount</th>\n",
       "      <th>profit</th>\n",
       "    </tr>\n",
       "  </thead>\n",
       "  <tbody>\n",
       "    <tr>\n",
       "      <th>0</th>\n",
       "      <td>CA-2019-121755</td>\n",
       "      <td>2019-01-16</td>\n",
       "      <td>Second Class</td>\n",
       "      <td>EH-13945</td>\n",
       "      <td>Email</td>\n",
       "      <td>United States</td>\n",
       "      <td>Los Angeles</td>\n",
       "      <td>California</td>\n",
       "      <td>90049.0</td>\n",
       "      <td>West</td>\n",
       "      <td>Special Projects Muesil</td>\n",
       "      <td>Gluten Free</td>\n",
       "      <td>TEC-AC-10003027</td>\n",
       "      <td>90.57</td>\n",
       "      <td>3</td>\n",
       "      <td>0.0</td>\n",
       "      <td>11.7741</td>\n",
       "    </tr>\n",
       "    <tr>\n",
       "      <th>1</th>\n",
       "      <td>CA-2019-118255</td>\n",
       "      <td>2019-03-11</td>\n",
       "      <td>First Class</td>\n",
       "      <td>ON-18715</td>\n",
       "      <td>Sales</td>\n",
       "      <td>United States</td>\n",
       "      <td>Eagan</td>\n",
       "      <td>Minnesota</td>\n",
       "      <td>55122.0</td>\n",
       "      <td>Central</td>\n",
       "      <td>Special Projects Muesil</td>\n",
       "      <td>Gluten Free</td>\n",
       "      <td>TEC-AC-10000171</td>\n",
       "      <td>45.98</td>\n",
       "      <td>2</td>\n",
       "      <td>0.0</td>\n",
       "      <td>19.7714</td>\n",
       "    </tr>\n",
       "  </tbody>\n",
       "</table>\n",
       "</div>"
      ],
      "text/plain": [
       "         order_id order_date     ship_mode customer_id origin_channel  \\\n",
       "0  CA-2019-121755 2019-01-16  Second Class    EH-13945          Email   \n",
       "1  CA-2019-118255 2019-03-11   First Class    ON-18715          Sales   \n",
       "\n",
       "  country/region         city       state  postal_code   region  \\\n",
       "0  United States  Los Angeles  California      90049.0     West   \n",
       "1  United States        Eagan   Minnesota      55122.0  Central   \n",
       "\n",
       "                  category sub-category       product_id  sales  quantity  \\\n",
       "0  Special Projects Muesil  Gluten Free  TEC-AC-10003027  90.57         3   \n",
       "1  Special Projects Muesil  Gluten Free  TEC-AC-10000171  45.98         2   \n",
       "\n",
       "   discount   profit  \n",
       "0       0.0  11.7741  \n",
       "1       0.0  19.7714  "
      ]
     },
     "execution_count": 51,
     "metadata": {},
     "output_type": "execute_result"
    }
   ],
   "source": [
    "#dropping columns\n",
    "orders_clean.drop(['index', 'customer_name'], axis=1, inplace = True)\n",
    "orders_clean.head(2)"
   ]
  },
  {
   "cell_type": "code",
   "execution_count": 52,
   "metadata": {},
   "outputs": [
    {
     "name": "stderr",
     "output_type": "stream",
     "text": [
      "/var/folders/mc/1x4q7cs53knf6dvx4qb6jlg80000gn/T/ipykernel_1805/3560231959.py:1: SettingWithCopyWarning: \n",
      "A value is trying to be set on a copy of a slice from a DataFrame\n",
      "\n",
      "See the caveats in the documentation: https://pandas.pydata.org/pandas-docs/stable/user_guide/indexing.html#returning-a-view-versus-a-copy\n",
      "  on_truck_clean.drop(['row_id'], axis=1, inplace = True)\n"
     ]
    },
    {
     "data": {
      "text/html": [
       "<div>\n",
       "<style scoped>\n",
       "    .dataframe tbody tr th:only-of-type {\n",
       "        vertical-align: middle;\n",
       "    }\n",
       "\n",
       "    .dataframe tbody tr th {\n",
       "        vertical-align: top;\n",
       "    }\n",
       "\n",
       "    .dataframe thead th {\n",
       "        text-align: right;\n",
       "    }\n",
       "</style>\n",
       "<table border=\"1\" class=\"dataframe\">\n",
       "  <thead>\n",
       "    <tr style=\"text-align: right;\">\n",
       "      <th></th>\n",
       "      <th>order_id</th>\n",
       "      <th>order_date</th>\n",
       "      <th>on_truck_scan_date</th>\n",
       "      <th>ship_mode</th>\n",
       "    </tr>\n",
       "  </thead>\n",
       "  <tbody>\n",
       "    <tr>\n",
       "      <th>0</th>\n",
       "      <td>CA-2020-126221</td>\n",
       "      <td>2020-12-30</td>\n",
       "      <td>2021-01-06</td>\n",
       "      <td>Standard Processing</td>\n",
       "    </tr>\n",
       "    <tr>\n",
       "      <th>1</th>\n",
       "      <td>CA-2020-143259</td>\n",
       "      <td>2020-12-30</td>\n",
       "      <td>2021-01-06</td>\n",
       "      <td>Standard Processing</td>\n",
       "    </tr>\n",
       "  </tbody>\n",
       "</table>\n",
       "</div>"
      ],
      "text/plain": [
       "         order_id order_date on_truck_scan_date            ship_mode\n",
       "0  CA-2020-126221 2020-12-30         2021-01-06  Standard Processing\n",
       "1  CA-2020-143259 2020-12-30         2021-01-06  Standard Processing"
      ]
     },
     "execution_count": 52,
     "metadata": {},
     "output_type": "execute_result"
    }
   ],
   "source": [
    "#dropping column\n",
    "on_truck_clean.drop(['row_id'], axis=1, inplace = True)\n",
    "on_truck_clean.head(2)"
   ]
  },
  {
   "cell_type": "code",
   "execution_count": 63,
   "metadata": {},
   "outputs": [
    {
     "data": {
      "text/html": [
       "<div>\n",
       "<style scoped>\n",
       "    .dataframe tbody tr th:only-of-type {\n",
       "        vertical-align: middle;\n",
       "    }\n",
       "\n",
       "    .dataframe tbody tr th {\n",
       "        vertical-align: top;\n",
       "    }\n",
       "\n",
       "    .dataframe thead th {\n",
       "        text-align: right;\n",
       "    }\n",
       "</style>\n",
       "<table border=\"1\" class=\"dataframe\">\n",
       "  <thead>\n",
       "    <tr style=\"text-align: right;\">\n",
       "      <th></th>\n",
       "      <th>order_id</th>\n",
       "      <th>arrival_scan_date</th>\n",
       "    </tr>\n",
       "  </thead>\n",
       "  <tbody>\n",
       "    <tr>\n",
       "      <th>0</th>\n",
       "      <td>CA-2019-109666</td>\n",
       "      <td>2019-05-03</td>\n",
       "    </tr>\n",
       "    <tr>\n",
       "      <th>1</th>\n",
       "      <td>CA-2019-138933</td>\n",
       "      <td>2019-05-03</td>\n",
       "    </tr>\n",
       "    <tr>\n",
       "      <th>2</th>\n",
       "      <td>CA-2019-130001</td>\n",
       "      <td>2019-05-03</td>\n",
       "    </tr>\n",
       "    <tr>\n",
       "      <th>3</th>\n",
       "      <td>CA-2019-113061</td>\n",
       "      <td>2019-05-06</td>\n",
       "    </tr>\n",
       "    <tr>\n",
       "      <th>4</th>\n",
       "      <td>CA-2019-162138</td>\n",
       "      <td>2019-05-06</td>\n",
       "    </tr>\n",
       "    <tr>\n",
       "      <th>...</th>\n",
       "      <td>...</td>\n",
       "      <td>...</td>\n",
       "    </tr>\n",
       "    <tr>\n",
       "      <th>328</th>\n",
       "      <td>CA-2020-129707</td>\n",
       "      <td>2020-05-08</td>\n",
       "    </tr>\n",
       "    <tr>\n",
       "      <th>329</th>\n",
       "      <td>CA-2020-125381</td>\n",
       "      <td>2020-05-08</td>\n",
       "    </tr>\n",
       "    <tr>\n",
       "      <th>330</th>\n",
       "      <td>CA-2020-141733</td>\n",
       "      <td>2020-05-15</td>\n",
       "    </tr>\n",
       "    <tr>\n",
       "      <th>331</th>\n",
       "      <td>US-2020-104451</td>\n",
       "      <td>2020-05-15</td>\n",
       "    </tr>\n",
       "    <tr>\n",
       "      <th>332</th>\n",
       "      <td>US-2020-139647</td>\n",
       "      <td>2020-05-15</td>\n",
       "    </tr>\n",
       "  </tbody>\n",
       "</table>\n",
       "<p>333 rows × 2 columns</p>\n",
       "</div>"
      ],
      "text/plain": [
       "           order_id arrival_scan_date\n",
       "0    CA-2019-109666        2019-05-03\n",
       "1    CA-2019-138933        2019-05-03\n",
       "2    CA-2019-130001        2019-05-03\n",
       "3    CA-2019-113061        2019-05-06\n",
       "4    CA-2019-162138        2019-05-06\n",
       "..              ...               ...\n",
       "328  CA-2020-129707        2020-05-08\n",
       "329  CA-2020-125381        2020-05-08\n",
       "330  CA-2020-141733        2020-05-15\n",
       "331  US-2020-104451        2020-05-15\n",
       "332  US-2020-139647        2020-05-15\n",
       "\n",
       "[333 rows x 2 columns]"
      ]
     },
     "execution_count": 63,
     "metadata": {},
     "output_type": "execute_result"
    }
   ],
   "source": [
    "#dropping customer name\n",
    "delivered_clean.drop(['customer_name'], axis=1, inplace = True)\n",
    "delivered_clean"
   ]
  },
  {
   "cell_type": "markdown",
   "metadata": {},
   "source": [
    "## Merges\n",
    "\n",
    "- merge on_truck_clean & pickup_clean with outer merge - check if \"on truck scan date\" and \"ready to ship\" are the same dates, if yes combine both columns\n",
    "- inner merge between orders_clean and delivered_clean to have the  overall time from ordering to delivered - calculate average in time difference (Overall Process)\n",
    "- inner merge between orders_clean and on_truck_clean inner to get processing time (Processing)\n",
    "- inner merge between orders_clean and pickup_clean to receive the timeframe between order and ready to ship (Leaving Warehouse)\n",
    "- inner merge merged ready to ship data (first merging point here) with delivered_clean, to get shipping time (Shipping)\n"
   ]
  },
  {
   "cell_type": "code",
   "execution_count": 59,
   "metadata": {},
   "outputs": [
    {
     "name": "stdout",
     "output_type": "stream",
     "text": [
      "<class 'pandas.core.frame.DataFrame'>\n",
      "RangeIndex: 3002 entries, 0 to 3001\n",
      "Data columns (total 6 columns):\n",
      " #   Column              Non-Null Count  Dtype         \n",
      "---  ------              --------------  -----         \n",
      " 0   order_id            3002 non-null   object        \n",
      " 1   order_date          3002 non-null   datetime64[ns]\n",
      " 2   on_truck_scan_date  3002 non-null   datetime64[ns]\n",
      " 3   ship_mode           3002 non-null   object        \n",
      " 4   ready_to_ship_date  204 non-null    datetime64[ns]\n",
      " 5   pickup_date         204 non-null    datetime64[ns]\n",
      "dtypes: datetime64[ns](4), object(2)\n",
      "memory usage: 140.8+ KB\n"
     ]
    }
   ],
   "source": [
    "#merge on_truck_clean and pickup_clean\n",
    "pickup_truck = on_truck_clean.merge(pickup_clean, how= \"outer\", on=\"order_id\")\n",
    "pickup_truck.info()"
   ]
  },
  {
   "cell_type": "code",
   "execution_count": 58,
   "metadata": {},
   "outputs": [
    {
     "data": {
      "text/plain": [
       "date_difference\n",
       "0 days    204\n",
       "Name: count, dtype: int64"
      ]
     },
     "execution_count": 58,
     "metadata": {},
     "output_type": "execute_result"
    }
   ],
   "source": [
    "#check, if column on_truck_scan_date and pickup_date have the same entries\n",
    "#create new column with difference between on_truck_scan_date and pickup_date\n",
    "pickup_truck_comp = on_truck_clean.merge(pickup_clean, how= \"inner\", on=\"order_id\")\n",
    "pickup_truck_comp['date_difference'] = pickup_truck_comp['on_truck_scan_date'] - pickup_truck_comp['pickup_date']\n",
    "pickup_truck_comp['date_difference'].value_counts() # only one difference, which is 0 days! both columns are the same!\n"
   ]
  },
  {
   "cell_type": "code",
   "execution_count": 60,
   "metadata": {},
   "outputs": [
    {
     "data": {
      "text/html": [
       "<div>\n",
       "<style scoped>\n",
       "    .dataframe tbody tr th:only-of-type {\n",
       "        vertical-align: middle;\n",
       "    }\n",
       "\n",
       "    .dataframe tbody tr th {\n",
       "        vertical-align: top;\n",
       "    }\n",
       "\n",
       "    .dataframe thead th {\n",
       "        text-align: right;\n",
       "    }\n",
       "</style>\n",
       "<table border=\"1\" class=\"dataframe\">\n",
       "  <thead>\n",
       "    <tr style=\"text-align: right;\">\n",
       "      <th></th>\n",
       "      <th>order_id</th>\n",
       "      <th>order_date</th>\n",
       "      <th>on_truck_scan_date</th>\n",
       "      <th>ship_mode</th>\n",
       "      <th>ready_to_ship_date</th>\n",
       "    </tr>\n",
       "  </thead>\n",
       "  <tbody>\n",
       "    <tr>\n",
       "      <th>0</th>\n",
       "      <td>CA-2020-126221</td>\n",
       "      <td>2020-12-30</td>\n",
       "      <td>2021-01-06</td>\n",
       "      <td>Standard Processing</td>\n",
       "      <td>NaT</td>\n",
       "    </tr>\n",
       "    <tr>\n",
       "      <th>1</th>\n",
       "      <td>CA-2020-143259</td>\n",
       "      <td>2020-12-30</td>\n",
       "      <td>2021-01-06</td>\n",
       "      <td>Standard Processing</td>\n",
       "      <td>NaT</td>\n",
       "    </tr>\n",
       "  </tbody>\n",
       "</table>\n",
       "</div>"
      ],
      "text/plain": [
       "         order_id order_date on_truck_scan_date            ship_mode  \\\n",
       "0  CA-2020-126221 2020-12-30         2021-01-06  Standard Processing   \n",
       "1  CA-2020-143259 2020-12-30         2021-01-06  Standard Processing   \n",
       "\n",
       "  ready_to_ship_date  \n",
       "0                NaT  \n",
       "1                NaT  "
      ]
     },
     "execution_count": 60,
     "metadata": {},
     "output_type": "execute_result"
    }
   ],
   "source": [
    "#dropping pickup date (doubled column)\n",
    "pickup_truck.drop(['pickup_date'], axis = 1, inplace = True)\n",
    "pickup_truck.head(2)"
   ]
  },
  {
   "cell_type": "markdown",
   "metadata": {},
   "source": [
    "Inner merge between orders_clean and delivered_clean to have the  overall time from ordering to delivered - calculate average in time difference (Overall Process)"
   ]
  },
  {
   "cell_type": "code",
   "execution_count": 64,
   "metadata": {},
   "outputs": [
    {
     "data": {
      "text/html": [
       "<div>\n",
       "<style scoped>\n",
       "    .dataframe tbody tr th:only-of-type {\n",
       "        vertical-align: middle;\n",
       "    }\n",
       "\n",
       "    .dataframe tbody tr th {\n",
       "        vertical-align: top;\n",
       "    }\n",
       "\n",
       "    .dataframe thead th {\n",
       "        text-align: right;\n",
       "    }\n",
       "</style>\n",
       "<table border=\"1\" class=\"dataframe\">\n",
       "  <thead>\n",
       "    <tr style=\"text-align: right;\">\n",
       "      <th></th>\n",
       "      <th>order_id</th>\n",
       "      <th>order_date</th>\n",
       "      <th>ship_mode</th>\n",
       "      <th>customer_id</th>\n",
       "      <th>origin_channel</th>\n",
       "      <th>country/region</th>\n",
       "      <th>city</th>\n",
       "      <th>state</th>\n",
       "      <th>postal_code</th>\n",
       "      <th>region</th>\n",
       "      <th>category</th>\n",
       "      <th>sub-category</th>\n",
       "      <th>product_id</th>\n",
       "      <th>sales</th>\n",
       "      <th>quantity</th>\n",
       "      <th>discount</th>\n",
       "      <th>profit</th>\n",
       "      <th>arrival_scan_date</th>\n",
       "    </tr>\n",
       "  </thead>\n",
       "  <tbody>\n",
       "    <tr>\n",
       "      <th>0</th>\n",
       "      <td>CA-2019-145625</td>\n",
       "      <td>2019-09-11</td>\n",
       "      <td>Standard Class</td>\n",
       "      <td>KC-16540</td>\n",
       "      <td>Email</td>\n",
       "      <td>United States</td>\n",
       "      <td>San Diego</td>\n",
       "      <td>California</td>\n",
       "      <td>92037.0</td>\n",
       "      <td>West</td>\n",
       "      <td>Special Projects Muesil</td>\n",
       "      <td>Gluten Free</td>\n",
       "      <td>TEC-AC-10003832</td>\n",
       "      <td>3347.37</td>\n",
       "      <td>13</td>\n",
       "      <td>0.0</td>\n",
       "      <td>636.0003</td>\n",
       "      <td>2019-09-23</td>\n",
       "    </tr>\n",
       "    <tr>\n",
       "      <th>1</th>\n",
       "      <td>CA-2019-162138</td>\n",
       "      <td>2019-04-23</td>\n",
       "      <td>Standard Class</td>\n",
       "      <td>GK-14620</td>\n",
       "      <td>Sales</td>\n",
       "      <td>United States</td>\n",
       "      <td>Hesperia</td>\n",
       "      <td>California</td>\n",
       "      <td>92345.0</td>\n",
       "      <td>West</td>\n",
       "      <td>Special Projects Muesil</td>\n",
       "      <td>Gluten Free</td>\n",
       "      <td>TEC-AC-10001908</td>\n",
       "      <td>99.99</td>\n",
       "      <td>1</td>\n",
       "      <td>0.0</td>\n",
       "      <td>34.9965</td>\n",
       "      <td>2019-05-06</td>\n",
       "    </tr>\n",
       "  </tbody>\n",
       "</table>\n",
       "</div>"
      ],
      "text/plain": [
       "         order_id order_date       ship_mode customer_id origin_channel  \\\n",
       "0  CA-2019-145625 2019-09-11  Standard Class    KC-16540          Email   \n",
       "1  CA-2019-162138 2019-04-23  Standard Class    GK-14620          Sales   \n",
       "\n",
       "  country/region       city       state  postal_code region  \\\n",
       "0  United States  San Diego  California      92037.0   West   \n",
       "1  United States   Hesperia  California      92345.0   West   \n",
       "\n",
       "                  category sub-category       product_id    sales  quantity  \\\n",
       "0  Special Projects Muesil  Gluten Free  TEC-AC-10003832  3347.37        13   \n",
       "1  Special Projects Muesil  Gluten Free  TEC-AC-10001908    99.99         1   \n",
       "\n",
       "   discount    profit arrival_scan_date  \n",
       "0       0.0  636.0003        2019-09-23  \n",
       "1       0.0   34.9965        2019-05-06  "
      ]
     },
     "execution_count": 64,
     "metadata": {},
     "output_type": "execute_result"
    }
   ],
   "source": [
    "delivery = orders_clean.merge(delivered_clean, how = \"inner\", on=\"order_id\")\n",
    "delivery.head(2)"
   ]
  },
  {
   "cell_type": "code",
   "execution_count": 72,
   "metadata": {},
   "outputs": [
    {
     "name": "stdout",
     "output_type": "stream",
     "text": [
      "<class 'pandas.core.frame.DataFrame'>\n",
      "RangeIndex: 333 entries, 0 to 332\n",
      "Data columns (total 19 columns):\n",
      " #   Column                    Non-Null Count  Dtype          \n",
      "---  ------                    --------------  -----          \n",
      " 0   order_id                  333 non-null    object         \n",
      " 1   order_date                333 non-null    datetime64[ns] \n",
      " 2   ship_mode                 333 non-null    object         \n",
      " 3   customer_id               333 non-null    object         \n",
      " 4   origin_channel            333 non-null    object         \n",
      " 5   country/region            333 non-null    object         \n",
      " 6   city                      333 non-null    object         \n",
      " 7   state                     333 non-null    object         \n",
      " 8   postal_code               333 non-null    float64        \n",
      " 9   region                    333 non-null    object         \n",
      " 10  category                  333 non-null    object         \n",
      " 11  sub-category              333 non-null    object         \n",
      " 12  product_id                333 non-null    object         \n",
      " 13  sales                     333 non-null    float64        \n",
      " 14  quantity                  333 non-null    int64          \n",
      " 15  discount                  333 non-null    float64        \n",
      " 16  profit                    333 non-null    float64        \n",
      " 17  arrival_scan_date         333 non-null    datetime64[ns] \n",
      " 18  order_arrival_difference  333 non-null    timedelta64[ns]\n",
      "dtypes: datetime64[ns](2), float64(4), int64(1), object(11), timedelta64[ns](1)\n",
      "memory usage: 49.6+ KB\n"
     ]
    }
   ],
   "source": [
    "delivery['order_arrival_difference'] = delivery['arrival_scan_date'] - delivery['order_date']\n",
    "delivery.info()"
   ]
  },
  {
   "cell_type": "code",
   "execution_count": 79,
   "metadata": {},
   "outputs": [
    {
     "data": {
      "text/plain": [
       "Timedelta('11 days 00:00:00')"
      ]
     },
     "execution_count": 79,
     "metadata": {},
     "output_type": "execute_result"
    }
   ],
   "source": [
    "average_delivery = (delivery['order_arrival_difference'].sum()/delivery['order_arrival_difference'].count()).round('d')\n",
    "average_delivery"
   ]
  },
  {
   "cell_type": "code",
   "execution_count": 84,
   "metadata": {},
   "outputs": [
    {
     "data": {
      "image/png": "[encoded data removed]",
      "text/plain": [
       "<Figure size 400x600 with 1 Axes>"
      ]
     },
     "metadata": {},
     "output_type": "display_data"
    }
   ],
   "source": [
    "plt.subplots(figsize = (4,6))\n",
    "\n",
    "sns.boxplot(data=delivery['order_arrival_difference']); #?? Was ist hier schief, wie bekommen wir hier eine schönere Darstellung??"
   ]
  },
  {
   "cell_type": "markdown",
   "metadata": {},
   "source": [
    "Inner merge between orders_clean and on_truck_clean inner to get processing time (Processing)"
   ]
  },
  {
   "cell_type": "code",
   "execution_count": 86,
   "metadata": {},
   "outputs": [
    {
     "data": {
      "text/html": [
       "<div>\n",
       "<style scoped>\n",
       "    .dataframe tbody tr th:only-of-type {\n",
       "        vertical-align: middle;\n",
       "    }\n",
       "\n",
       "    .dataframe tbody tr th {\n",
       "        vertical-align: top;\n",
       "    }\n",
       "\n",
       "    .dataframe thead th {\n",
       "        text-align: right;\n",
       "    }\n",
       "</style>\n",
       "<table border=\"1\" class=\"dataframe\">\n",
       "  <thead>\n",
       "    <tr style=\"text-align: right;\">\n",
       "      <th></th>\n",
       "      <th>order_id</th>\n",
       "      <th>order_date</th>\n",
       "      <th>on_truck_scan_date</th>\n",
       "      <th>ship_mode</th>\n",
       "      <th>ready_to_ship_date</th>\n",
       "      <th>pickup_date</th>\n",
       "      <th>date_difference</th>\n",
       "    </tr>\n",
       "  </thead>\n",
       "  <tbody>\n",
       "    <tr>\n",
       "      <th>0</th>\n",
       "      <td>US-2020-165456</td>\n",
       "      <td>2020-11-30</td>\n",
       "      <td>2020-12-04</td>\n",
       "      <td>Express</td>\n",
       "      <td>2020-12-03</td>\n",
       "      <td>2020-12-04</td>\n",
       "      <td>0 days</td>\n",
       "    </tr>\n",
       "    <tr>\n",
       "      <th>1</th>\n",
       "      <td>CA-2020-119305</td>\n",
       "      <td>2020-11-30</td>\n",
       "      <td>2020-12-07</td>\n",
       "      <td>Standard Processing</td>\n",
       "      <td>2020-12-04</td>\n",
       "      <td>2020-12-07</td>\n",
       "      <td>0 days</td>\n",
       "    </tr>\n",
       "  </tbody>\n",
       "</table>\n",
       "</div>"
      ],
      "text/plain": [
       "         order_id order_date on_truck_scan_date            ship_mode  \\\n",
       "0  US-2020-165456 2020-11-30         2020-12-04              Express   \n",
       "1  CA-2020-119305 2020-11-30         2020-12-07  Standard Processing   \n",
       "\n",
       "  ready_to_ship_date pickup_date date_difference  \n",
       "0         2020-12-03  2020-12-04          0 days  \n",
       "1         2020-12-04  2020-12-07          0 days  "
      ]
     },
     "execution_count": 86,
     "metadata": {},
     "output_type": "execute_result"
    }
   ],
   "source": [
    "pickup_truck_comp.head(2)"
   ]
  },
  {
   "cell_type": "code",
   "execution_count": 88,
   "metadata": {},
   "outputs": [
    {
     "data": {
      "text/plain": [
       "process_time\n",
       "5 days    44\n",
       "4 days    39\n",
       "6 days    37\n",
       "2 days    24\n",
       "3 days    20\n",
       "7 days    18\n",
       "0 days    16\n",
       "1 days     4\n",
       "8 days     2\n",
       "Name: count, dtype: int64"
      ]
     },
     "execution_count": 88,
     "metadata": {},
     "output_type": "execute_result"
    }
   ],
   "source": [
    "pickup_truck_comp['process_time'] = pickup_truck_comp['ready_to_ship_date'] - pickup_truck_comp['order_date']\n",
    "pickup_truck_comp.value_counts('process_time')"
   ]
  },
  {
   "cell_type": "code",
   "execution_count": 99,
   "metadata": {},
   "outputs": [
    {
     "data": {
      "text/html": [
       "<div>\n",
       "<style scoped>\n",
       "    .dataframe tbody tr th:only-of-type {\n",
       "        vertical-align: middle;\n",
       "    }\n",
       "\n",
       "    .dataframe tbody tr th {\n",
       "        vertical-align: top;\n",
       "    }\n",
       "\n",
       "    .dataframe thead th {\n",
       "        text-align: right;\n",
       "    }\n",
       "</style>\n",
       "<table border=\"1\" class=\"dataframe\">\n",
       "  <thead>\n",
       "    <tr style=\"text-align: right;\">\n",
       "      <th></th>\n",
       "      <th>process_time</th>\n",
       "    </tr>\n",
       "    <tr>\n",
       "      <th>ship_mode</th>\n",
       "      <th></th>\n",
       "    </tr>\n",
       "  </thead>\n",
       "  <tbody>\n",
       "    <tr>\n",
       "      <th>Express</th>\n",
       "      <td>2 days 00:54:20.377358490</td>\n",
       "    </tr>\n",
       "    <tr>\n",
       "      <th>Standard Processing</th>\n",
       "      <td>4 days 22:15:05.960264900</td>\n",
       "    </tr>\n",
       "  </tbody>\n",
       "</table>\n",
       "</div>"
      ],
      "text/plain": [
       "                                 process_time\n",
       "ship_mode                                    \n",
       "Express             2 days 00:54:20.377358490\n",
       "Standard Processing 4 days 22:15:05.960264900"
      ]
     },
     "execution_count": 99,
     "metadata": {},
     "output_type": "execute_result"
    }
   ],
   "source": [
    "pickup_truck_comp.groupby(['ship_mode']).agg({'process_time':'mean'})\n",
    "\n",
    "#df_category_views = df.groupby(['category_name']).agg({'views':'mean'}).sort_values('views', ascending=True)"
   ]
  },
  {
   "cell_type": "code",
   "execution_count": null,
   "metadata": {},
   "outputs": [],
   "source": []
  }
 ],
 "metadata": {
  "kernelspec": {
   "display_name": "nf_base",
   "language": "python",
   "name": "python3"
  },
  "language_info": {
   "codemirror_mode": {
    "name": "ipython",
    "version": 3
   },
   "file_extension": ".py",
   "mimetype": "text/x-python",
   "name": "python",
   "nbconvert_exporter": "python",
   "pygments_lexer": "ipython3",
   "version": "3.9.18"
  }
 },
 "nbformat": 4,
 "nbformat_minor": 2
}
